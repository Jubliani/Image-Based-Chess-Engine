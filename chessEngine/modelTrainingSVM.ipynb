{
 "cells": [
  {
   "cell_type": "code",
   "execution_count": 1,
   "metadata": {},
   "outputs": [],
   "source": [
    "from PIL import Image\n",
    "import numpy as np\n",
    "import os\n",
    "from tqdm.notebook import tqdm\n",
    "from sklearn.model_selection import train_test_split\n",
    "from sklearn.model_selection import GridSearchCV\n",
    "from sklearn.svm import SVC, LinearSVC\n",
    "from sklearn.preprocessing import Normalizer\n",
    "from sklearn.metrics import accuracy_score\n"
   ]
  },
  {
   "cell_type": "code",
   "execution_count": 2,
   "metadata": {},
   "outputs": [
    {
     "data": {
      "application/vnd.jupyter.widget-view+json": {
       "model_id": "6241c07a0c89473ab32152793d58ac47",
       "version_major": 2,
       "version_minor": 0
      },
      "text/plain": [
       "Getting data for bad:   0%|          | 0/63611 [00:00<?, ?it/s]"
      ]
     },
     "metadata": {},
     "output_type": "display_data"
    },
    {
     "data": {
      "application/vnd.jupyter.widget-view+json": {
       "model_id": "afc2d3ca5e334da9810a709ac7eb110d",
       "version_major": 2,
       "version_minor": 0
      },
      "text/plain": [
       "Getting data for good:   0%|          | 0/60066 [00:00<?, ?it/s]"
      ]
     },
     "metadata": {},
     "output_type": "display_data"
    },
    {
     "data": {
      "application/vnd.jupyter.widget-view+json": {
       "model_id": "15c22ad5d73141e68f6e540ad769a0ce",
       "version_major": 2,
       "version_minor": 0
      },
      "text/plain": [
       "Getting data for neutral:   0%|          | 0/76315 [00:00<?, ?it/s]"
      ]
     },
     "metadata": {},
     "output_type": "display_data"
    },
    {
     "name": "stdout",
     "output_type": "stream",
     "text": [
      "1999920000\n",
      "199992\n"
     ]
    }
   ],
   "source": [
    "#getting the data\n",
    "categories = ['bad', 'good', 'neutral']\n",
    "data = []\n",
    "labels = []\n",
    "for label, category in enumerate(categories):\n",
    "    for i in tqdm(os.listdir(os.path.join('images', category)), desc=f'Getting data for {category}'):\n",
    "        data.append(np.asarray(Image.open(os.path.join('images', category, i)).convert('L')).flatten())\n",
    "        labels.append(label)\n",
    "\n",
    "data = np.asarray(data)\n",
    "labels = np.asarray(labels)\n",
    "print(data.size)\n",
    "print(labels.size)"
   ]
  },
  {
   "cell_type": "code",
   "execution_count": 3,
   "metadata": {},
   "outputs": [],
   "source": [
    "rng1 = np.random.default_rng(seed=5111997)\n",
    "permutation = rng1.permutation(len(labels))\n",
    "data = data[permutation]\n",
    "labels = labels[permutation]"
   ]
  },
  {
   "cell_type": "code",
   "execution_count": 38,
   "metadata": {},
   "outputs": [],
   "source": [
    "data_short = data[:40000]\n",
    "labels_short = labels[:40000]"
   ]
  },
  {
   "cell_type": "code",
   "execution_count": 39,
   "metadata": {},
   "outputs": [],
   "source": [
    "#train/test split\n",
    "# x_train, x_test, y_train, y_test = train_test_split(data, labels, test_size=0.2, shuffle=True, stratify=labels, random_state=5111997)\n",
    "x_train, x_test, y_train, y_test = train_test_split(data_short, labels_short, test_size=0.2, random_state=5111997)"
   ]
  },
  {
   "cell_type": "code",
   "execution_count": 40,
   "metadata": {},
   "outputs": [],
   "source": [
    "x_train = Normalizer(copy=False).fit_transform(x_train)\n",
    "x_test = Normalizer(copy=False).fit_transform(x_test)"
   ]
  },
  {
   "cell_type": "code",
   "execution_count": 41,
   "metadata": {},
   "outputs": [
    {
     "data": {
      "text/plain": [
       "8000"
      ]
     },
     "execution_count": 41,
     "metadata": {},
     "output_type": "execute_result"
    }
   ],
   "source": [
    "len(y_test)"
   ]
  },
  {
   "cell_type": "code",
   "execution_count": 42,
   "metadata": {},
   "outputs": [],
   "source": [
    "#train SVM\n",
    "classifier = LinearSVC(verbose=1, C=1000)\n",
    "# classifier = SVC(verbose=True, C=1000, gamma=0.01)\n",
    "# parameters = [{'gamma': [0.01, 0.001, 0.0001], 'C': [1, 10, 100, 1000]}]\n",
    "# parameters = [{'C': [1, 10, 100, 1000]}]\n",
    "# grid_search = GridSearchCV(classifier, parameters, verbose=3)\n",
    "# grid_search.fit(x_train, y_train)\n",
    "classifier.fit(x_train, y_train)\n"
   ]
  },
  {
   "cell_type": "code",
   "execution_count": 37,
   "metadata": {},
   "outputs": [
    {
     "data": {
      "text/plain": [
       "0.68425"
      ]
     },
     "execution_count": 37,
     "metadata": {},
     "output_type": "execute_result"
    }
   ],
   "source": [
    "# best_estimator = grid_search.best_estimator_\n",
    "# y_test_prediction = best_estimator.predict(x_test)\n",
    "# print(accuracy_score(y_test_prediction, y_test))\n",
    "classifier.score(x_test, y_test)"
   ]
  },
  {
   "cell_type": "code",
   "execution_count": 12,
   "metadata": {},
   "outputs": [
    {
     "name": "stdout",
     "output_type": "stream",
     "text": [
      "{'C': 1000, 'gamma': 0.01}\n"
     ]
    }
   ],
   "source": [
    "print(grid_search.best_params_)"
   ]
  },
  {
   "cell_type": "code",
   "execution_count": 21,
   "metadata": {},
   "outputs": [],
   "source": [
    "#saving model\n",
    "import pickle\n",
    "with open('models/SVM/SVC_samples20000_C1000_gamma1e-2.pkl','wb') as f:\n",
    "    pickle.dump(classifier,f)"
   ]
  },
  {
   "cell_type": "code",
   "execution_count": 22,
   "metadata": {},
   "outputs": [
    {
     "data": {
      "text/plain": [
       "['models/SVM/SVC_samples20000_C1000_gamma1e-2.pkl']"
      ]
     },
     "execution_count": 22,
     "metadata": {},
     "output_type": "execute_result"
    }
   ],
   "source": [
    "import joblib\n",
    "joblib.dump(classifier, 'models/SVM/SVC_samples20000_C1000_gamma1e-2.pkl') "
   ]
  }
 ],
 "metadata": {
  "kernelspec": {
   "display_name": "chess_engine",
   "language": "python",
   "name": "python3"
  },
  "language_info": {
   "codemirror_mode": {
    "name": "ipython",
    "version": 3
   },
   "file_extension": ".py",
   "mimetype": "text/x-python",
   "name": "python",
   "nbconvert_exporter": "python",
   "pygments_lexer": "ipython3",
   "version": "3.10.14"
  }
 },
 "nbformat": 4,
 "nbformat_minor": 2
}
